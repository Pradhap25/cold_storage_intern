Cold Storage Locations in Bihar - Map Visualization

This project utilizes several Python libraries, including BeautifulSoup, pandas, requests, googlemaps, and Folium, to create an interactive map that displays cold storage locations in Bihar, India. The map is designed to include markers for each location, providing detailed information in popups when a marker is clicked.

The primary goal of this project is to visualize the geographical locations of various cold storage facilities in Bihar. The interactive map allows users to explore these locations and view additional information about each facility.Features
Interactive Map: The map is centered around Bihar, with a zoom level of 5, providing a comprehensive view of the region and its cold storage facilities.

Data Extraction and Processing: Data is extracted from a specified web page using BeautifulSoup. The information is organized into a pandas DataFrame, which is used to manage the dataset efficiently.

Geocoding Addresses: Using the Google Maps Geocoding API, the script converts addresses into geographical coordinates, allowing for accurate placement of markers on the map.

Markers for Locations: Each cold storage facility is represented on the map with a marker, providing an intuitive visual representation of its location.

Popups with Details: Clicking on a marker opens a popup containing detailed information, including the facility's name, address, phone number, and storage capacity. This allows users to quickly access relevant information without leaving the map interface.

Error Handling and Data Cleaning: The script includes error handling for situations where data might be missing or addresses cannot be geocoded. It ensures that only valid data is processed and visualized.

Custom Popup Size: Popups are designed with a custom size to ensure that the information displayed is easily readable, enhancing user experience.

CSV Data Export: The cleaned data, including coordinates and other details, is saved to a CSV file for further analysis or future reference.
